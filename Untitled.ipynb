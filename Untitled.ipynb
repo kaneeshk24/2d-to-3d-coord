{
 "cells": [
  {
   "cell_type": "code",
   "execution_count": 1,
   "id": "d04cd7c8-fdf0-4070-b6c4-28d7297c56b7",
   "metadata": {},
   "outputs": [
    {
     "name": "stdout",
     "output_type": "stream",
     "text": [
      "pygame 2.5.2 (SDL 2.28.3, Python 3.11.2)\n",
      "Hello from the pygame community. https://www.pygame.org/contribute.html\n"
     ]
    },
    {
     "ename": "error",
     "evalue": "display Surface quit",
     "output_type": "error",
     "traceback": [
      "\u001b[1;31m---------------------------------------------------------------------------\u001b[0m",
      "\u001b[1;31merror\u001b[0m                                     Traceback (most recent call last)",
      "Cell \u001b[1;32mIn[1], line 60\u001b[0m\n\u001b[0;32m     53\u001b[0m rotation_z \u001b[38;5;241m=\u001b[39m np\u001b[38;5;241m.\u001b[39mmatrix([\n\u001b[0;32m     54\u001b[0m     [cos(angle), \u001b[38;5;241m-\u001b[39msin(angle), \u001b[38;5;241m0\u001b[39m],\n\u001b[0;32m     55\u001b[0m     [sin(angle), cos(angle), \u001b[38;5;241m0\u001b[39m],\n\u001b[0;32m     56\u001b[0m     [\u001b[38;5;241m0\u001b[39m, \u001b[38;5;241m0\u001b[39m, \u001b[38;5;241m1\u001b[39m]\n\u001b[0;32m     57\u001b[0m ])\n\u001b[0;32m     58\u001b[0m angle \u001b[38;5;241m+\u001b[39m\u001b[38;5;241m=\u001b[39m \u001b[38;5;241m0.01\u001b[39m\n\u001b[1;32m---> 60\u001b[0m \u001b[43mscreen\u001b[49m\u001b[38;5;241;43m.\u001b[39;49m\u001b[43mfill\u001b[49m\u001b[43m(\u001b[49m\u001b[43mWHITE\u001b[49m\u001b[43m)\u001b[49m\n\u001b[0;32m     62\u001b[0m \u001b[38;5;66;03m# Draw the points\u001b[39;00m\n\u001b[0;32m     63\u001b[0m \u001b[38;5;28;01mfor\u001b[39;00m i, point \u001b[38;5;129;01min\u001b[39;00m \u001b[38;5;28menumerate\u001b[39m(points):\n",
      "\u001b[1;31merror\u001b[0m: display Surface quit"
     ]
    }
   ],
   "source": [
    "import pygame\n",
    "import numpy as np\n",
    "from math import cos, sin\n",
    "\n",
    "WHITE = (255, 255, 255)\n",
    "RED = (255, 0, 0)\n",
    "BLACK = (0, 0, 0)\n",
    "\n",
    "\n",
    "#screen setup\n",
    "WIDTH, HEIGHT = 800, 600\n",
    "pygame.display.set_caption(\"2D Floor Plan Projection\")\n",
    "screen = pygame.display.set_mode((WIDTH, HEIGHT))\n",
    "\n",
    "scale = 100\n",
    "circle_pos = [WIDTH / 2, HEIGHT / 2]  # x, y\n",
    "angle = 0\n",
    "\n",
    "\n",
    "#LIST OF 3D POINTS (NUMPY MATRICES) ~ VERTICES OF A CUBE\n",
    "points = [\n",
    "    np.matrix([-1, -1, 1]),\n",
    "    np.matrix([1, -1, 1]),\n",
    "    np.matrix([1, 1, 1]),\n",
    "    np.matrix([-1, 1, 1]),\n",
    "    np.matrix([-1, -1, -1]),\n",
    "    np.matrix([1, -1, -1]),\n",
    "    np.matrix([1, 1, -1]),\n",
    "    np.matrix([-1, 1, -1])\n",
    "]\n",
    "\n",
    "# projection ignore the Z-axis ( onto the XY plane)\n",
    "projection_matrix = np.matrix([\n",
    "    [1, 0, 0],\n",
    "    [0, 1, 0]\n",
    "])\n",
    "\n",
    "projected_points = [[0, 0] for _ in range(len(points))]\n",
    "\n",
    "def connect_points(i, j, points):\n",
    "    pygame.draw.line(screen, BLACK, (points[i][0], points[i][1]), (points[j][0], points[j][1]))\n",
    "\n",
    "clock = pygame.time.Clock()\n",
    "while True:\n",
    "    clock.tick(60)\n",
    "\n",
    "    for event in pygame.event.get():\n",
    "        if event.type == pygame.QUIT:\n",
    "            pygame.quit()\n",
    "            exit()\n",
    "        if event.type == pygame.KEYDOWN:\n",
    "            if event.key == pygame.K_ESCAPE:\n",
    "                pygame.quit()\n",
    "                exit()\n",
    "\n",
    "    # only rotate around the Z-axis like the floor plan view\n",
    "    rotation_z = np.matrix([\n",
    "        [cos(angle), -sin(angle), 0],\n",
    "        [sin(angle), cos(angle), 0],\n",
    "        [0, 0, 1]\n",
    "    ])\n",
    "    angle += 0.01\n",
    "\n",
    "    screen.fill(WHITE)\n",
    "\n",
    "    #draw the points\n",
    "    for i, point in enumerate(points):\n",
    "        rotated2d = np.dot(rotation_z, point.reshape((3, 1)))\n",
    "        projected2d = np.dot(projection_matrix, rotated2d)\n",
    "\n",
    "        x = int(projected2d[0][0] * scale) + circle_pos[0]\n",
    "        y = int(projected2d[1][0] * scale) + circle_pos[1]\n",
    "\n",
    "        projected_points[i] = [x, y]\n",
    "        pygame.draw.circle(screen, RED, (x, y), 5)\n",
    "\n",
    "    #connecting points to form the edges of the cube\n",
    "    for p in range(4):\n",
    "        connect_points(p, (p + 1) % 4, projected_points)\n",
    "        connect_points(p + 4, ((p + 1) % 4) + 4, projected_points)\n",
    "        connect_points(p, p + 4, projected_points)\n",
    "\n",
    "    pygame.display.update()\n"
   ]
  },
  {
   "cell_type": "code",
   "execution_count": null,
   "id": "d67e91aa-6a2c-46b0-9ca2-9b8fc7a69f6b",
   "metadata": {},
   "outputs": [],
   "source": []
  }
 ],
 "metadata": {
  "kernelspec": {
   "display_name": "Python 3 (ipykernel)",
   "language": "python",
   "name": "python3"
  },
  "language_info": {
   "codemirror_mode": {
    "name": "ipython",
    "version": 3
   },
   "file_extension": ".py",
   "mimetype": "text/x-python",
   "name": "python",
   "nbconvert_exporter": "python",
   "pygments_lexer": "ipython3",
   "version": "3.11.2"
  }
 },
 "nbformat": 4,
 "nbformat_minor": 5
}
